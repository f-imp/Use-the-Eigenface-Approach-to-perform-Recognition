{
 "cells": [
  {
   "cell_type": "markdown",
   "metadata": {
    "collapsed": true,
    "pycharm": {
     "name": "#%% md\n"
    }
   },
   "source": [
    "### EIGENFACE MODEL\n",
    "***"
   ]
  },
  {
   "cell_type": "markdown",
   "metadata": {
    "pycharm": {
     "name": "#%% md\n"
    }
   },
   "source": [
    "The dataset $X$ is composed by $M$ images of size $(m \\times n)$"
   ]
  },
  {
   "cell_type": "code",
   "execution_count": null,
   "metadata": {
    "pycharm": {
     "is_executing": false,
     "name": "#%%\n"
    }
   },
   "outputs": [],
   "source": [
    "import sklearn\n",
    "from sklearn.datasets import fetch_lfw_people\n",
    "import numpy as np\n",
    "import matplotlib.pyplot as plt\n",
    "from sklearn.model_selection import train_test_split\n",
    "import scipy.linalg as la\n",
    "import seaborn as sns\n",
    "import pandas as pd"
   ]
  },
  {
   "cell_type": "markdown",
   "metadata": {},
   "source": [
    "Download dataset"
   ]
  },
  {
   "cell_type": "code",
   "execution_count": null,
   "metadata": {
    "pycharm": {
     "is_executing": false,
     "name": "#%%\n"
    }
   },
   "outputs": [],
   "source": [
    "from tensorflow.keras.datasets import fashion_mnist\n",
    "(X, Y), (x, y) = fashion_mnist.load_data()\n",
    "X_train, Y_train = X[0:200], Y[0:200]\n",
    "X_test = np.concatenate((x, X[200:]), axis=0)\n",
    "Y_test = np.concatenate((y, Y[200:]), axis=0)\n",
    "print(\"X_Train {}\\t\\t Y_Train {}\\nX_Test {}\\t\\t Y_Test {}\"\n",
    "      .format(np.shape(X_train),np.shape(Y_train),np.shape(X_test),np.shape(Y_test)))\n"
   ]
  },
  {
   "cell_type": "code",
   "execution_count": null,
   "metadata": {},
   "outputs": [],
   "source": [
    "h, w = np.shape(X_train)[1],np.shape(X_train)[2]"
   ]
  },
  {
   "cell_type": "markdown",
   "metadata": {},
   "source": [
    "Overview of the dataset"
   ]
  },
  {
   "cell_type": "code",
   "execution_count": null,
   "metadata": {
    "pycharm": {
     "is_executing": false,
     "name": "#%%\n"
    }
   },
   "outputs": [],
   "source": [
    "ax = sns.countplot(y=pd.Series(Y_train))"
   ]
  },
  {
   "cell_type": "code",
   "execution_count": null,
   "metadata": {},
   "outputs": [],
   "source": [
    "ax = sns.countplot(y=pd.Series(Y_test))"
   ]
  },
  {
   "cell_type": "markdown",
   "metadata": {
    "pycharm": {
     "name": "#%% md\n"
    }
   },
   "source": [
    "This is an example of the image"
   ]
  },
  {
   "cell_type": "code",
   "execution_count": null,
   "metadata": {
    "pycharm": {
     "is_executing": false,
     "name": "#%%\n"
    },
    "scrolled": true
   },
   "outputs": [],
   "source": [
    "id = 0\n",
    "example_image = X_train[id].reshape((h,w))\n",
    "plt.title(\"This is a representation of the class: {}\".format(Y_train[id]))\n",
    "plt.imshow(example_image.reshape((h, w)), cmap=plt.cm.gray)"
   ]
  },
  {
   "cell_type": "markdown",
   "metadata": {
    "pycharm": {
     "name": "#%% md\n"
    }
   },
   "source": [
    "This is the mean face image extracted by averaging all images of the training set <br>\n",
    "$\\hspace{6cm} \\Psi = \\frac{1}{M}\\cdot\\sum_{i=1}^{M} \\Gamma_{i}$"
   ]
  },
  {
   "cell_type": "code",
   "execution_count": null,
   "metadata": {
    "pycharm": {
     "is_executing": true,
     "name": "#%%\n"
    }
   },
   "outputs": [],
   "source": [
    "mean_face = X_train.mean(axis=0)\n",
    "print(np.shape(mean_face))\n",
    "plt.title(\"This is the mean face\")\n",
    "plt.imshow(mean_face, cmap=plt.cm.gray)"
   ]
  },
  {
   "cell_type": "markdown",
   "metadata": {
    "pycharm": {
     "name": "#%% md\n"
    }
   },
   "source": [
    "This is the process of face's centering using the mean face <br>\n",
    "$\\phi_{i} = \\Gamma_{i} - \\Psi \\hspace{1.5cm} (i= 1,\\dots M)$"
   ]
  },
  {
   "cell_type": "code",
   "execution_count": null,
   "metadata": {
    "pycharm": {
     "is_executing": true,
     "name": "#%%\n"
    }
   },
   "outputs": [],
   "source": [
    "X_train_centered = X_train - mean_face\n",
    "X_test_centered = X_test - mean_face\n",
    "print(\"Shape of Centered Train set\\t{}\".format(np.shape(X_train_centered)))\n",
    "print(\"Shape of Centered Test set\\t{}\".format(np.shape(X_test_centered)))"
   ]
  },
  {
   "cell_type": "markdown",
   "metadata": {
    "pycharm": {
     "name": "#%% md\n"
    }
   },
   "source": [
    "This is an example of the same face shown before (left) and the centered version (right)"
   ]
  },
  {
   "cell_type": "code",
   "execution_count": null,
   "metadata": {
    "pycharm": {
     "is_executing": true,
     "name": "#%%\n"
    }
   },
   "outputs": [],
   "source": [
    "fig = plt.figure(facecolor=(1, 1, 1))\n",
    "plt.title(\"Original Image (Left) vs Image centered on the mean (Right)\")\n",
    "plt.axis('off')\n",
    "fig.add_subplot(1,2,1)\n",
    "plt.imshow(example_image, cmap=plt.cm.gray)\n",
    "fig.add_subplot(1,2,2)\n",
    "plt.imshow(example_image - mean_face, cmap=plt.cm.gray)\n",
    "plt.show()"
   ]
  },
  {
   "cell_type": "markdown",
   "metadata": {
    "pycharm": {
     "name": "#%% md\n"
    }
   },
   "source": [
    "This is the vectorized version of the centered dataset <br>\n",
    "Each image has been vectorized, in this sense:<br>\n",
    "$\\phi_{i} \\in R^{(m \\times n)} \\longmapsto vec(\\phi_{i}) \\in R^{(m \\cdot n)} \\hspace{2cm} \n",
    "vec(\\phi_{i}) = \\begin{bmatrix}(\\phi_{i})_{(\\ast,1)}\\\\(\\phi_{i})_{(\\ast,2)}\\\\ \\vdots \\\\(\\phi_{i})_{(\\ast,m \\cdot n)}\\end{bmatrix}$<br>\n",
    "This is the vectorized version of the centered dataset:<br>\n",
    "$X = [ \\, vec(\\phi_{i}), vec(\\phi_{2}), \\ldots , vec(\\phi_{M}) ]\\,$"
   ]
  },
  {
   "cell_type": "code",
   "execution_count": null,
   "metadata": {
    "pycharm": {
     "is_executing": true,
     "name": "#%%\n"
    }
   },
   "outputs": [],
   "source": [
    "X_train_centered_vectorized = np.reshape(X_train_centered, newshape=(np.shape(X_train_centered)[0], h*w))\n",
    "print(\"\\nShape of the Vectorized version of the Train centered dataset: {}\\n\"\n",
    "      .format(np.shape(X_train_centered_vectorized)))\n",
    "X_test_centered_vectorized = np.reshape(X_test_centered, newshape=(np.shape(X_test_centered)[0], h*w))\n",
    "print(\"\\nShape of the Vectorized version of the Test centered dataset: {}\\n\"\n",
    "      .format(np.shape(X_test_centered_vectorized)))\n"
   ]
  },
  {
   "cell_type": "code",
   "execution_count": null,
   "metadata": {
    "pycharm": {
     "is_executing": true
    }
   },
   "outputs": [],
   "source": [
    "plt.imshow(np.reshape(X_train_centered_vectorized[id], newshape=(h,w)), cmap=plt.cm.gray)"
   ]
  },
  {
   "cell_type": "code",
   "execution_count": null,
   "metadata": {
    "pycharm": {
     "is_executing": true
    }
   },
   "outputs": [],
   "source": [
    "plt.imshow(np.reshape(X_test_centered_vectorized[id], newshape=(h,w)), cmap=plt.cm.gray)"
   ]
  },
  {
   "cell_type": "code",
   "execution_count": null,
   "metadata": {
    "pycharm": {
     "is_executing": true,
     "name": "#%%\n"
    }
   },
   "outputs": [],
   "source": [
    "X_train_centered_vectorized = np.transpose(X_train_centered_vectorized)\n",
    "print(\"\\nShape of the Transposed Vectorized version of the Train centered dataset: {}\\n\"\n",
    "      .format(np.shape(X_train_centered_vectorized)))\n",
    "plt.imshow(np.reshape(X_train_centered_vectorized[:,id], newshape=(h,w)), cmap=plt.cm.gray)\n",
    "\n",
    "X_test_centered_vectorized = np.transpose(X_test_centered_vectorized)\n",
    "print(\"\\nShape of the Transposed Vectorized version of the Test centered dataset: {}\\n\"\n",
    "      .format(np.shape(X_test_centered_vectorized)))"
   ]
  },
  {
   "cell_type": "markdown",
   "metadata": {
    "pycharm": {
     "name": "#%% md\n"
    }
   },
   "source": [
    "Now is required to compute the PCA of the Covariance Matrix <br>\n",
    "But since the features are situated on the rows \n",
    "($pixel_{1}$, $pixel_{2}$, $pixel_{3}$, ..., $pixel_{m*n}$) \n",
    "is required to change the perspective of the matrix and \n",
    "use the transpose of the matrix $X$ <br>\n",
    "Now it's possible compute PCA using the Covariance Matrix computed on ${X_{c}}^{T}$<br>\n",
    "$Cov_{X_{c}} = \\frac{1}{M - 1} * {(X^{T})}^{T}X^{T} = \\frac{1}{M - 1} * XX^{T}$ <br>\n",
    "But the matrix product is performed using two matrices of these size: <br> $(m*n$ x $M)*(M$ x $m*n)$\n",
    "<br> and so the resulting matrix has shape $(m*n$ x $m*n)$ which is very bigger and requires\n",
    "an high computational effort."
   ]
  },
  {
   "cell_type": "code",
   "execution_count": null,
   "metadata": {
    "pycharm": {
     "is_executing": true,
     "name": "#%%\n"
    }
   },
   "outputs": [],
   "source": [
    "print(\"X {} * X^T {}\\nThe matrix product returns a matrix of size ({},{})\"\n",
    "      .format(np.shape(X_train_centered_vectorized),\n",
    "              np.shape(np.transpose(X_train_centered_vectorized)),\n",
    "              np.shape(X_train_centered_vectorized)[0],\n",
    "              np.shape(X_train_centered_vectorized)[0]))"
   ]
  },
  {
   "cell_type": "markdown",
   "metadata": {
    "pycharm": {
     "name": "#%% md\n"
    }
   },
   "source": [
    "Then it's used the transpose of the original matrix. <br>\n",
    "$X \\in R^{(mn \\times M)} \\rightarrow X^{T} \\in R^{(M \\times mn)}$ <br>\n",
    "And so, when it's computed the Covariance matrix (with this formula $\\downarrow$) \n",
    "it's obtained a matrix feasible to treat<br>\n",
    "$Cov_{X_{c}} = \\frac{1}{M - 1} * {X}^{T}X \n",
    "\\Rightarrow\n",
    "(M \\times mn)*(mn \\times M) \n",
    "\\Rightarrow\n",
    "(M \\times M)\n",
    "$"
   ]
  },
  {
   "cell_type": "code",
   "execution_count": null,
   "metadata": {
    "pycharm": {
     "is_executing": true,
     "name": "#%%\n"
    }
   },
   "outputs": [],
   "source": [
    "print(\"X^T {} * X {}\".\n",
    "      format(np.shape(X_train_centered_vectorized.T), \n",
    "      np.shape(X_train_centered_vectorized)))\n",
    "\n",
    "Cov_XTX = (1/(np.shape(X_train_centered_vectorized)[0] - 1)) * \\\n",
    "          np.dot(np.transpose(X_train_centered_vectorized), X_train_centered_vectorized)\n",
    "print(\"Dimension of the computed Covariance Matrix: {}\".format(np.shape(Cov_XTX)))"
   ]
  },
  {
   "cell_type": "markdown",
   "metadata": {
    "pycharm": {
     "name": "#%% md\n"
    }
   },
   "source": [
    "Now let's call $v_{i}$ the eigenvectors of $X^{T}X$ and write the \n",
    "basic relation which tied up eigenvectors and eigenvalues:<br>\n",
    "$(X^{T}X) \\cdot v_{i} = \\lambda_{i} \\cdot v_{i} \\iff \n",
    "X\\cdot (X^{T}X) \\cdot v_{i} = \\lambda_{i} \\cdot (X \\cdot v_{i}) \\iff$ <br><br>\n",
    "$(XX^{T}) \\cdot (X \\cdot v_{i}) = \\lambda_{i} \\cdot (X \\cdot v_{i}) \\implies $<br><br>\n",
    "$(X \\cdot v_{i}) = u_{i} $ is the $i^{th}$ eigenvector of the matrix $(XX^{T})$\n",
    "***\n",
    "Then it has been computed the eigenvectors of the Covariance Matrix $X^{T}X$"
   ]
  },
  {
   "cell_type": "code",
   "execution_count": null,
   "metadata": {
    "pycharm": {
     "is_executing": true,
     "name": "#%%\n"
    }
   },
   "outputs": [],
   "source": [
    "eigenvalues, eigenvectors = np.linalg.eig(Cov_XTX)\n",
    "print(\"Shape of the set of eigenvalues: {}\".format(np.shape(eigenvalues)))\n",
    "#print(\"These are the eigenvalues:\\n{}\".format(eigenvalues.astype(int)))\n",
    "#print(\"The eigenvalues are ordered?\\t{}\".format(sorted(list(eigenvalues))==list(eigenvalues)))\n",
    "print(\"Shape of the set of eigenvectors: {}\".format(np.shape(eigenvectors)))\n",
    "#print(\"These are the eigenvectors\\n{}\".format(eigenvectors))"
   ]
  },
  {
   "cell_type": "markdown",
   "metadata": {
    "pycharm": {
     "name": "#%% md\n"
    }
   },
   "source": [
    "Using the eigenvectors $v_{i}$, \n",
    "now it can be computed the vectors $u_{i}$ also called EIGENFACES"
   ]
  },
  {
   "cell_type": "code",
   "execution_count": null,
   "metadata": {
    "pycharm": {
     "is_executing": true,
     "name": "#%%\n"
    }
   },
   "outputs": [],
   "source": [
    "eigenfaces = np.dot(X_train_centered_vectorized, eigenvectors)\n",
    "print(\"Shape of the eigenfaces matrix: {}\".format(np.shape(eigenfaces)))\n",
    "eigenface_example = np.reshape(eigenfaces[:,0], newshape=(h,w))\n",
    "fig2 = plt.figure(figsize=(12,15),facecolor=(1, 1, 1))\n",
    "plt.axis('off')\n",
    "img=0\n",
    "while img < 9:\n",
    "    fig2.add_subplot(3,3,img+1)\n",
    "    plt.title(\"Eigenface #{}\".format(img+1))\n",
    "    plt.imshow(np.reshape(eigenfaces[:,img], newshape=(h,w)), cmap=plt.cm.gray)\n",
    "    img +=1\n",
    "plt.show()"
   ]
  },
  {
   "cell_type": "markdown",
   "metadata": {
    "pycharm": {
     "name": "#%% md\n"
    }
   },
   "source": [
    "After the computing of the eigenfaces $u_{i}$, it must be chosen a number $M^{'}$ of eigenfaces, \n",
    "such that $M^{'} < M$.<br>\n",
    "These eigenfaces has been chosen according to highest associated eigenvalues,\n",
    "inspecting the cumulative explained variance (visually, inspect the scree plot)"
   ]
  },
  {
   "cell_type": "code",
   "execution_count": null,
   "metadata": {
    "pycharm": {
     "is_executing": true,
     "name": "#%%\n"
    }
   },
   "outputs": [],
   "source": [
    "total_variation = np.sum(eigenvalues)\n",
    "explained_variance = np.asarray(\n",
    "    [100*(i/total_variation) for i in sorted(eigenvalues, reverse=True)])\n",
    "cumulative_covariance = np.cumsum(explained_variance)"
   ]
  },
  {
   "cell_type": "code",
   "execution_count": null,
   "metadata": {
    "pycharm": {
     "is_executing": true,
     "name": "#%%\n"
    }
   },
   "outputs": [],
   "source": [
    "fig1 = plt.figure(1, figsize=(10,8))\n",
    "plt.title(\"Scree plots to choose M\\'\")\n",
    "plt.bar(x=np.arange(np.shape(explained_variance)[0]), \n",
    "        height=explained_variance, \n",
    "        width=0.6, color=\"green\")\n",
    "plt.plot(np.arange(np.shape(explained_variance)[0]), \n",
    "         explained_variance, \n",
    "         linestyle=\"--\", marker=\"o\", markersize=2,\n",
    "         color=\"red\", label=\"explained variance\")\n",
    "plt.xlim(-1,50)\n",
    "#plt.ylim(0,1)\n",
    "plt.legend()\n",
    "plt.grid()\n",
    "plt.show()"
   ]
  },
  {
   "cell_type": "code",
   "execution_count": null,
   "metadata": {
    "pycharm": {
     "is_executing": true,
     "name": "#%%\n"
    }
   },
   "outputs": [],
   "source": [
    "m_first = 3"
   ]
  },
  {
   "cell_type": "code",
   "execution_count": null,
   "metadata": {
    "pycharm": {
     "is_executing": true
    }
   },
   "outputs": [],
   "source": [
    "print(\"Cumulative Variance taken {} eigenface:\\t{}\"\n",
    "      .format(m_first, cumulative_covariance[m_first-1:m_first][0]))"
   ]
  },
  {
   "cell_type": "code",
   "execution_count": null,
   "metadata": {
    "pycharm": {
     "is_executing": true,
     "name": "#%%\n"
    }
   },
   "outputs": [],
   "source": [
    "basis_eigenfaces = eigenfaces[:,:m_first]\n",
    "\n",
    "print(np.shape(basis_eigenfaces))\n",
    "basis_eigenfaces_t = np.transpose(basis_eigenfaces)\n",
    "print(np.shape(basis_eigenfaces_t))"
   ]
  },
  {
   "cell_type": "code",
   "execution_count": null,
   "metadata": {
    "pycharm": {
     "is_executing": true,
     "name": "#%%\n"
    }
   },
   "outputs": [],
   "source": [
    "# le colonne sono gli Omega vettori per ogni immagine del training set (colonna 1 = [w_11, w_12, ..., w_1M']^T)\n",
    "projections_Omega = np.dot(basis_eigenfaces_t, X_train_centered_vectorized)\n",
    "print(np.shape(projections_Omega), \"\\t\\t\", )\n"
   ]
  },
  {
   "cell_type": "code",
   "execution_count": null,
   "metadata": {
    "pycharm": {
     "is_executing": true,
     "name": "#%%\n"
    }
   },
   "outputs": [],
   "source": [
    "\n",
    "# la proiezione la ottengo pesando ogni eigenface (k) con il valore di w_k\n",
    "proj = np.zeros((np.shape(basis_eigenfaces)[0],1))\n",
    "for i in range(m_first):\n",
    "    proj += projections_Omega[i:i+1,id]*basis_eigenfaces[:,i:i+1]\n",
    "proj += mean_face.reshape((h*w,1))\n",
    "print(np.shape(proj))"
   ]
  },
  {
   "cell_type": "code",
   "execution_count": null,
   "metadata": {
    "pycharm": {
     "is_executing": true,
     "name": "#%%\n"
    }
   },
   "outputs": [],
   "source": [
    "fig = plt.figure(figsize=(9,5), facecolor=(1, 1, 1))\n",
    "plt.title(\"Original (Left) vs Centered (Center) vs Proj into facespace (Right)\")\n",
    "plt.axis('off')\n",
    "fig.add_subplot(1,2,1)\n",
    "plt.imshow(np.reshape(X_train_centered_vectorized[:,id], newshape=(h,w)), cmap=plt.cm.gray)\n",
    "fig.add_subplot(1,2,2)\n",
    "plt.imshow(proj.reshape((h,w)), cmap=plt.cm.gray)\n",
    "fig.tight_layout(h_pad=2)\n",
    "plt.show()\n"
   ]
  },
  {
   "cell_type": "markdown",
   "metadata": {
    "pycharm": {
     "name": "#%% md\n"
    }
   },
   "source": [
    "Per ogni classe creo un Omega medio "
   ]
  },
  {
   "cell_type": "code",
   "execution_count": null,
   "metadata": {
    "pycharm": {
     "is_executing": true,
     "name": "#%%\n"
    },
    "scrolled": true
   },
   "outputs": [],
   "source": [
    "classes_index = {}\n",
    "\n",
    "for count, name in enumerate(list(set(Y_train))):\n",
    "    classes_index[name] = np.where(Y_train == count)\n",
    "\n",
    "Omega_class = {}\n",
    "c = 0\n",
    "fig_compare = plt.figure(facecolor=(1, 1, 1), figsize=(17,4))\n",
    "plt.axis('off')\n",
    "for k,v in classes_index.items():\n",
    "    output = np.zeros((m_first,))\n",
    "    for each_index in v[0]:\n",
    "        output += projections_Omega[:,each_index]\n",
    "    \n",
    "    output = np.reshape(output / len(v), newshape=(m_first,1))\n",
    "    Omega_class[k] = output\n",
    "    #print(k,\"\\n - Dimension Vector Class face:\\t\",np.shape(output), \"\\n - \\t#Images:\\t\", np.shape(v)[1])\n",
    "    proj_classface = np.zeros((np.shape(basis_eigenfaces)[0],1))\n",
    "    for i in range(m_first):\n",
    "        proj_classface += output[i:i+1,:]*basis_eigenfaces[:,i:i+1]\n",
    "    proj_classface += mean_face.reshape((h*w,1))\n",
    "    c+=1\n",
    "    fig_compare.add_subplot(1,len(list(set(Y_train))),c)\n",
    "    plt.imshow(proj_classface.reshape((h,w)), cmap=plt.cm.gray)\n",
    "    plt.title(k)\n",
    "plt.show()\n"
   ]
  },
  {
   "cell_type": "markdown",
   "metadata": {
    "pycharm": {
     "name": "#%% md\n"
    }
   },
   "source": [
    "Per ogni immagine di test, proiettala nel subspace delle facce"
   ]
  },
  {
   "cell_type": "code",
   "execution_count": null,
   "metadata": {
    "pycharm": {
     "is_executing": true
    }
   },
   "outputs": [],
   "source": [
    "n_test = np.shape(X_test_centered_vectorized)[1]"
   ]
  },
  {
   "cell_type": "code",
   "execution_count": null,
   "metadata": {
    "pycharm": {
     "is_executing": true
    }
   },
   "outputs": [],
   "source": [
    "X_test_centered_vectorized, Y_test = X_test_centered_vectorized[:,0:n_test], Y_test[0:n_test]\n",
    "print(np.shape(X_test_centered_vectorized))"
   ]
  },
  {
   "cell_type": "code",
   "execution_count": null,
   "metadata": {
    "pycharm": {
     "is_executing": true
    }
   },
   "outputs": [],
   "source": [
    "projections_Omega_test = np.dot(basis_eigenfaces_t, X_test_centered_vectorized)\n",
    "print(np.shape(projections_Omega_test), \"\\t\\t\", )"
   ]
  },
  {
   "cell_type": "code",
   "execution_count": null,
   "metadata": {
    "pycharm": {
     "is_executing": true
    }
   },
   "outputs": [],
   "source": [
    "projections_test_set = np.zeros((np.shape(basis_eigenfaces)[0],n_test))\n",
    "for i in range(0,n_test):\n",
    "    proj_ts = np.zeros((np.shape(basis_eigenfaces)[0],1))\n",
    "    for j in range(m_first):\n",
    "        proj_ts += projections_Omega_test[j:j+1,i]*basis_eigenfaces[:,j:j+1]\n",
    "    proj_ts += mean_face.reshape((h*w,1))\n",
    "    projections_test_set[:,i:i+1] = np.reshape(proj_ts, newshape=(np.shape(proj_ts)[0],1))\n",
    "print(np.shape(projections_test_set))"
   ]
  },
  {
   "cell_type": "code",
   "execution_count": null,
   "metadata": {
    "pycharm": {
     "is_executing": true
    }
   },
   "outputs": [],
   "source": [
    "fig4 = plt.figure(figsize=(9,5), facecolor=(1, 1, 1))\n",
    "plt.title(\"Original (Left) vs Centered (Center) vs Proj into facespace (Right)\")\n",
    "plt.axis('off')\n",
    "fig4.add_subplot(1,2,1)\n",
    "plt.imshow(np.reshape(X_test_centered_vectorized[:,0], newshape=(h,w)), cmap=plt.cm.gray)\n",
    "fig4.add_subplot(1,2,2)\n",
    "plt.imshow(projections_test_set[:,0].reshape((h,w)), cmap=plt.cm.gray)\n",
    "fig4.tight_layout(h_pad=2)\n",
    "plt.show()"
   ]
  },
  {
   "cell_type": "markdown",
   "metadata": {
    "pycharm": {
     "name": "#%% md\n"
    }
   },
   "source": [
    "Calcola la distanza da ciascuna classe e se risulta essere minore di una soglia, allora etichetta\n",
    "l'immagine come appartenente a quella classe"
   ]
  },
  {
   "cell_type": "code",
   "execution_count": null,
   "metadata": {
    "pycharm": {
     "is_executing": true
    }
   },
   "outputs": [],
   "source": [
    "from scipy.spatial import distance"
   ]
  },
  {
   "cell_type": "code",
   "execution_count": null,
   "metadata": {
    "pycharm": {
     "is_executing": true
    }
   },
   "outputs": [],
   "source": [
    "counters = [0, 0]\n",
    "distances_test_set={}\n",
    "for i in range(n_test):\n",
    "    d_class = []\n",
    "    d_space = 0\n",
    "    for j in range(np.shape(projections_Omega)[1]):\n",
    "        d_class.append(distance.euclidean(projections_Omega[:,j],projections_Omega_test[:,i]))\n",
    "    #print(d_class)\n",
    "    d_space = (distance.euclidean(X_test_centered_vectorized[:,i], projections_test_set[:,i]))\n",
    "    id_min = np.argmin(d_class)\n",
    "    #print(\"For test image {}: {}\".format(i,d_class[id_min]))\n",
    "    name_person = Y_train[id_min]\n",
    "    distances_test_set['Test #'+str(i)] = [d_class[id_min], d_space, name_person, Y_test[i]]\n",
    "    if (name_person == Y_test[i]):\n",
    "        counters[0] += 1\n",
    "    else:\n",
    "        counters[1] += 1\n",
    "#for k,v in distances_test_set.items():\n",
    "    #print(k,\"\\n - Real: {} \\t Predicted: {}\\n - Distance face space: {}\".format(v[3], v[2], v[1]))"
   ]
  },
  {
   "cell_type": "markdown",
   "metadata": {
    "pycharm": {
     "name": "#%% md\n"
    }
   },
   "source": [
    "calcola la distanza dal face space"
   ]
  },
  {
   "cell_type": "code",
   "execution_count": null,
   "metadata": {
    "pycharm": {
     "is_executing": true
    }
   },
   "outputs": [],
   "source": [
    "print(\"Right: {}\\nWrong: {}\".format(counters[0], counters[1]))"
   ]
  },
  {
   "cell_type": "code",
   "execution_count": null,
   "metadata": {},
   "outputs": [],
   "source": [
    "print(\"Percentage of success: {} % with {} eigenfaces over {} available\"\n",
    "      .format(round((counters[0]*100)/np.shape(X_test)[0],2), m_first, np.shape(eigenfaces)[1]))"
   ]
  },
  {
   "cell_type": "markdown",
   "metadata": {
    "pycharm": {
     "name": "#%% md\n"
    }
   },
   "source": [
    "### Codifica i 4 casi\n"
   ]
  }
 ],
 "metadata": {
  "kernelspec": {
   "display_name": "Python 3",
   "language": "python",
   "name": "python3"
  },
  "language_info": {
   "codemirror_mode": {
    "name": "ipython",
    "version": 3
   },
   "file_extension": ".py",
   "mimetype": "text/x-python",
   "name": "python",
   "nbconvert_exporter": "python",
   "pygments_lexer": "ipython3",
   "version": "3.7.7"
  },
  "pycharm": {
   "stem_cell": {
    "cell_type": "raw",
    "metadata": {
     "collapsed": false
    },
    "source": []
   }
  }
 },
 "nbformat": 4,
 "nbformat_minor": 1
}
